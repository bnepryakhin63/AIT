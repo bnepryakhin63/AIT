{
 "cells": [
  {
   "cell_type": "code",
   "execution_count": 1,
   "metadata": {},
   "outputs": [],
   "source": [
    "import numpy as np\n",
    "import matplotlib.pyplot as plt\n",
    "from sklearn.datasets import load_digits\n",
    "from sklearn.model_selection import train_test_split\n",
    "from sklearn.metrics import accuracy_score\n",
    "\n",
    "# Загрузка данных\n",
    "digits = load_digits()\n",
    "X = digits.data\n",
    "y = (digits.target == 1).astype(int)  # Бинарная классификация, пример с цифрой 1\n",
    "\n",
    "# Разделение на обучающую и тестовую выборки\n",
    "X_train, X_test, y_train, y_test = train_test_split(X, y, test_size=0.2, random_state=42)\n",
    "\n",
    "# Сигмоидная функция активации\n",
    "def sigmoid(x):\n",
    "    return 1 / (1 + np.exp(-x))\n",
    "\n",
    "# Производная сигмоидной функции\n",
    "def sigmoid_derivative(x):\n",
    "    return x * (1 - x)\n",
    "\n",
    "# Инициализация весов\n",
    "np.random.seed(42)\n",
    "weights = 2 * np.random.random((X_train.shape[1], 1)) - 1\n",
    "\n",
    "# Обучение однослойного перцептрона\n",
    "def train_perceptron(X, y, weights, epochs=1000, learning_rate=0.01):\n",
    "    errors = []\n",
    "    for epoch in range(epochs):\n",
    "        # Прямой проход\n",
    "        output = sigmoid(np.dot(X, weights))\n",
    "\n",
    "        # Вычисление ошибки\n",
    "        error = y - output\n",
    "        errors.append(np.mean(np.abs(error)))\n",
    "\n",
    "        # Обратный проход и коррекция весов\n",
    "        adjustment = learning_rate * np.dot(X.T, error * sigmoid_derivative(output))\n",
    "        weights += np.mean(adjustment)\n",
    "\n",
    "    return errors"
   ]
  },
  {
   "cell_type": "code",
   "execution_count": 2,
   "metadata": {},
   "outputs": [
    {
     "data": {
      "image/png": "[encoded data removed]",
      "text/plain": [
       "<Figure size 640x480 with 1 Axes>"
      ]
     },
     "metadata": {},
     "output_type": "display_data"
    },
    {
     "name": "stdout",
     "output_type": "stream",
     "text": [
      "Accuracy: 0.9222222222222223\n"
     ]
    }
   ],
   "source": [
    "# Обучение\n",
    "epochs = 1000\n",
    "learning_rate = 0.01\n",
    "errors = train_perceptron(X_train, y_train, weights, epochs, learning_rate)\n",
    "\n",
    "# Построение графика ошибок\n",
    "plt.plot(range(epochs), errors)\n",
    "plt.title('Training Error')\n",
    "plt.xlabel('Epoch')\n",
    "plt.ylabel('Error')\n",
    "plt.show()\n",
    "\n",
    "# Прогнозирование на тестовой выборке\n",
    "predictions = sigmoid(np.dot(X_test, weights))\n",
    "\n",
    "# Преобразование предсказаний в бинарный формат\n",
    "predictions_binary = (predictions > 0.5).astype(int)\n",
    "\n",
    "# Вычисление точности\n",
    "accuracy = accuracy_score(y_test, predictions_binary)\n",
    "print(f'Accuracy: {accuracy}')"
   ]
  },
  {
   "cell_type": "code",
   "execution_count": 3,
   "metadata": {},
   "outputs": [
    {
     "name": "stdout",
     "output_type": "stream",
     "text": [
      "Accuracy (sklearn): 0.9777777777777777\n"
     ]
    }
   ],
   "source": [
    "from sklearn.linear_model import Perceptron\n",
    "from sklearn.metrics import accuracy_score\n",
    "\n",
    "# Создание и обучение однослойного перцептрона из sklearn\n",
    "perceptron_sklearn = Perceptron(random_state=42, max_iter=1000, tol=1e-3)\n",
    "perceptron_sklearn.fit(X_train, y_train)\n",
    "\n",
    "# Предсказание на тестовой выборке\n",
    "predictions_sklearn = perceptron_sklearn.predict(X_test)\n",
    "\n",
    "# Вычисление точности\n",
    "accuracy_sklearn = accuracy_score(y_test, predictions_sklearn)\n",
    "print(f'Accuracy (sklearn): {accuracy_sklearn}')\n"
   ]
  },
  {
   "cell_type": "markdown",
   "metadata": {},
   "source": [
    "sklearn Показал большую точность чем самописная модель "
   ]
  },
  {
   "cell_type": "code",
   "execution_count": 5,
   "metadata": {},
   "outputs": [
    {
     "name": "stdout",
     "output_type": "stream",
     "text": [
      "Accuracy (MLP sklearn): 0.9944444444444445\n"
     ]
    }
   ],
   "source": [
    "from sklearn.neural_network import MLPClassifier\n",
    "\n",
    "# Создание и обучение многослойного перцептрона из sklearn\n",
    "mlp_classifier = MLPClassifier(hidden_layer_sizes=(10,), max_iter=1000, random_state=42)\n",
    "mlp_classifier.fit(X_train, y_train)\n",
    "\n",
    "# Предсказание на тестовой выборке\n",
    "predictions_mlp = mlp_classifier.predict(X_test)\n",
    "\n",
    "# Вычисление точности\n",
    "accuracy_mlp = accuracy_score(y_test, predictions_mlp)\n",
    "print(f'Accuracy (MLP sklearn): {accuracy_mlp}')\n"
   ]
  },
  {
   "cell_type": "markdown",
   "metadata": {},
   "source": [
    "Максимальная точность!"
   ]
  }
 ],
 "metadata": {
  "kernelspec": {
   "display_name": "Python 3",
   "language": "python",
   "name": "python3"
  },
  "language_info": {
   "codemirror_mode": {
    "name": "ipython",
    "version": 3
   },
   "file_extension": ".py",
   "mimetype": "text/x-python",
   "name": "python",
   "nbconvert_exporter": "python",
   "pygments_lexer": "ipython3",
   "version": "3.9.13"
  }
 },
 "nbformat": 4,
 "nbformat_minor": 2
}
